{
  "nbformat": 4,
  "nbformat_minor": 0,
  "metadata": {
    "colab": {
      "name": "Practice_for_Carracing.ipynb",
      "version": "0.3.2",
      "provenance": []
    },
    "kernelspec": {
      "name": "python3",
      "display_name": "Python 3"
    }
  },
  "cells": [
    {
      "cell_type": "code",
      "metadata": {
        "id": "wqWNEi8Chvxh",
        "colab_type": "code",
        "colab": {}
      },
      "source": [
        "!apt install swig cmake libopenmpi-dev zlib1g-dev > /dev/null 2>&1\n",
        "!pip install stable-baselines==2.4.0 box2d box2d-kengz > /dev/null 2>&1"
      ],
      "execution_count": 0,
      "outputs": []
    },
    {
      "cell_type": "code",
      "metadata": {
        "id": "W9T9JUoY_-46",
        "colab_type": "code",
        "colab": {}
      },
      "source": [
        "import itertools as it\n",
        "from skimage import color\n",
        "import os\n",
        "from skimage import io\n",
        "import matplotlib.pyplot as plt\n",
        "import numpy as np"
      ],
      "execution_count": 0,
      "outputs": []
    },
    {
      "cell_type": "code",
      "metadata": {
        "id": "VNAXkLG_J3JA",
        "colab_type": "code",
        "colab": {
          "base_uri": "https://localhost:8080/",
          "height": 248
        },
        "outputId": "be1e87d8-fa40-43c0-ac01-32d75f44cae2"
      },
      "source": [
        "all_actions = np.array([k for k in it.product([-1, 0, 1], [1, 0], [0.2, 0])])\n",
        "print(all_actions)\n",
        "print(len(all_actions))"
      ],
      "execution_count": 2,
      "outputs": [
        {
          "output_type": "stream",
          "text": [
            "[[-1.   1.   0.2]\n",
            " [-1.   1.   0. ]\n",
            " [-1.   0.   0.2]\n",
            " [-1.   0.   0. ]\n",
            " [ 0.   1.   0.2]\n",
            " [ 0.   1.   0. ]\n",
            " [ 0.   0.   0.2]\n",
            " [ 0.   0.   0. ]\n",
            " [ 1.   1.   0.2]\n",
            " [ 1.   1.   0. ]\n",
            " [ 1.   0.   0.2]\n",
            " [ 1.   0.   0. ]]\n",
            "12\n"
          ],
          "name": "stdout"
        }
      ]
    },
    {
      "cell_type": "code",
      "metadata": {
        "id": "yZP7_EZSMH5D",
        "colab_type": "code",
        "colab": {
          "base_uri": "https://localhost:8080/",
          "height": 569
        },
        "outputId": "9fd76168-5133-4b0c-d8a4-130158dd6650"
      },
      "source": [
        "import gym\n",
        "\n",
        "env = gym.make(\"CartPole-v1\")\n",
        "dim_act = env.action_space.n\n",
        "print(dim_act)\n",
        "\n",
        "env2 = gym.make(\"CarRacing-v0\")\n",
        "dim_act2 = env2.action_space.low\n",
        "print(dim_act2)\n",
        "print(env2.action_space)\n",
        "print(env2.action_space.dtype)\n",
        "print(env2.action_space.high)\n",
        "print(env2.action_space.low)\n",
        "print(env2.action_space.contains)\n",
        "print(env2.action_space.sample)\n",
        "print(\"\")\n",
        "print(env2.action_space.shape)\n",
        "print(env2.action_space)"
      ],
      "execution_count": 31,
      "outputs": [
        {
          "output_type": "stream",
          "text": [
            "2\n"
          ],
          "name": "stdout"
        },
        {
          "output_type": "error",
          "ename": "ModuleNotFoundError",
          "evalue": "ignored",
          "traceback": [
            "\u001b[0;31m---------------------------------------------------------------------------\u001b[0m",
            "\u001b[0;31mModuleNotFoundError\u001b[0m                       Traceback (most recent call last)",
            "\u001b[0;32m<ipython-input-31-f7c9312fd6ec>\u001b[0m in \u001b[0;36m<module>\u001b[0;34m()\u001b[0m\n\u001b[1;32m      5\u001b[0m \u001b[0mprint\u001b[0m\u001b[0;34m(\u001b[0m\u001b[0mdim_act\u001b[0m\u001b[0;34m)\u001b[0m\u001b[0;34m\u001b[0m\u001b[0;34m\u001b[0m\u001b[0m\n\u001b[1;32m      6\u001b[0m \u001b[0;34m\u001b[0m\u001b[0m\n\u001b[0;32m----> 7\u001b[0;31m \u001b[0menv2\u001b[0m \u001b[0;34m=\u001b[0m \u001b[0mgym\u001b[0m\u001b[0;34m.\u001b[0m\u001b[0mmake\u001b[0m\u001b[0;34m(\u001b[0m\u001b[0;34m\"CarRacing-v0\"\u001b[0m\u001b[0;34m)\u001b[0m\u001b[0;34m\u001b[0m\u001b[0;34m\u001b[0m\u001b[0m\n\u001b[0m\u001b[1;32m      8\u001b[0m \u001b[0mdim_act2\u001b[0m \u001b[0;34m=\u001b[0m \u001b[0menv2\u001b[0m\u001b[0;34m.\u001b[0m\u001b[0maction_space\u001b[0m\u001b[0;34m.\u001b[0m\u001b[0mlow\u001b[0m\u001b[0;34m\u001b[0m\u001b[0;34m\u001b[0m\u001b[0m\n\u001b[1;32m      9\u001b[0m \u001b[0mprint\u001b[0m\u001b[0;34m(\u001b[0m\u001b[0mdim_act2\u001b[0m\u001b[0;34m)\u001b[0m\u001b[0;34m\u001b[0m\u001b[0;34m\u001b[0m\u001b[0m\n",
            "\u001b[0;32m/usr/local/lib/python3.6/dist-packages/gym/envs/registration.py\u001b[0m in \u001b[0;36mmake\u001b[0;34m(id, **kwargs)\u001b[0m\n\u001b[1;32m    169\u001b[0m \u001b[0;34m\u001b[0m\u001b[0m\n\u001b[1;32m    170\u001b[0m \u001b[0;32mdef\u001b[0m \u001b[0mmake\u001b[0m\u001b[0;34m(\u001b[0m\u001b[0mid\u001b[0m\u001b[0;34m,\u001b[0m \u001b[0;34m**\u001b[0m\u001b[0mkwargs\u001b[0m\u001b[0;34m)\u001b[0m\u001b[0;34m:\u001b[0m\u001b[0;34m\u001b[0m\u001b[0;34m\u001b[0m\u001b[0m\n\u001b[0;32m--> 171\u001b[0;31m     \u001b[0;32mreturn\u001b[0m \u001b[0mregistry\u001b[0m\u001b[0;34m.\u001b[0m\u001b[0mmake\u001b[0m\u001b[0;34m(\u001b[0m\u001b[0mid\u001b[0m\u001b[0;34m,\u001b[0m \u001b[0;34m**\u001b[0m\u001b[0mkwargs\u001b[0m\u001b[0;34m)\u001b[0m\u001b[0;34m\u001b[0m\u001b[0;34m\u001b[0m\u001b[0m\n\u001b[0m\u001b[1;32m    172\u001b[0m \u001b[0;34m\u001b[0m\u001b[0m\n\u001b[1;32m    173\u001b[0m \u001b[0;32mdef\u001b[0m \u001b[0mspec\u001b[0m\u001b[0;34m(\u001b[0m\u001b[0mid\u001b[0m\u001b[0;34m)\u001b[0m\u001b[0;34m:\u001b[0m\u001b[0;34m\u001b[0m\u001b[0;34m\u001b[0m\u001b[0m\n",
            "\u001b[0;32m/usr/local/lib/python3.6/dist-packages/gym/envs/registration.py\u001b[0m in \u001b[0;36mmake\u001b[0;34m(self, id, **kwargs)\u001b[0m\n\u001b[1;32m    121\u001b[0m             \u001b[0mlogger\u001b[0m\u001b[0;34m.\u001b[0m\u001b[0minfo\u001b[0m\u001b[0;34m(\u001b[0m\u001b[0;34m'Making new env: %s'\u001b[0m\u001b[0;34m,\u001b[0m \u001b[0mid\u001b[0m\u001b[0;34m)\u001b[0m\u001b[0;34m\u001b[0m\u001b[0;34m\u001b[0m\u001b[0m\n\u001b[1;32m    122\u001b[0m         \u001b[0mspec\u001b[0m \u001b[0;34m=\u001b[0m \u001b[0mself\u001b[0m\u001b[0;34m.\u001b[0m\u001b[0mspec\u001b[0m\u001b[0;34m(\u001b[0m\u001b[0mid\u001b[0m\u001b[0;34m)\u001b[0m\u001b[0;34m\u001b[0m\u001b[0;34m\u001b[0m\u001b[0m\n\u001b[0;32m--> 123\u001b[0;31m         \u001b[0menv\u001b[0m \u001b[0;34m=\u001b[0m \u001b[0mspec\u001b[0m\u001b[0;34m.\u001b[0m\u001b[0mmake\u001b[0m\u001b[0;34m(\u001b[0m\u001b[0;34m**\u001b[0m\u001b[0mkwargs\u001b[0m\u001b[0;34m)\u001b[0m\u001b[0;34m\u001b[0m\u001b[0;34m\u001b[0m\u001b[0m\n\u001b[0m\u001b[1;32m    124\u001b[0m         \u001b[0;31m# We used to have people override _reset/_step rather than\u001b[0m\u001b[0;34m\u001b[0m\u001b[0;34m\u001b[0m\u001b[0;34m\u001b[0m\u001b[0m\n\u001b[1;32m    125\u001b[0m         \u001b[0;31m# reset/step. Set _gym_disable_underscore_compat = True on\u001b[0m\u001b[0;34m\u001b[0m\u001b[0;34m\u001b[0m\u001b[0;34m\u001b[0m\u001b[0m\n",
            "\u001b[0;32m/usr/local/lib/python3.6/dist-packages/gym/envs/registration.py\u001b[0m in \u001b[0;36mmake\u001b[0;34m(self, **kwargs)\u001b[0m\n\u001b[1;32m     84\u001b[0m             \u001b[0menv\u001b[0m \u001b[0;34m=\u001b[0m \u001b[0mself\u001b[0m\u001b[0;34m.\u001b[0m\u001b[0m_entry_point\u001b[0m\u001b[0;34m(\u001b[0m\u001b[0;34m**\u001b[0m\u001b[0m_kwargs\u001b[0m\u001b[0;34m)\u001b[0m\u001b[0;34m\u001b[0m\u001b[0;34m\u001b[0m\u001b[0m\n\u001b[1;32m     85\u001b[0m         \u001b[0;32melse\u001b[0m\u001b[0;34m:\u001b[0m\u001b[0;34m\u001b[0m\u001b[0;34m\u001b[0m\u001b[0m\n\u001b[0;32m---> 86\u001b[0;31m             \u001b[0mcls\u001b[0m \u001b[0;34m=\u001b[0m \u001b[0mload\u001b[0m\u001b[0;34m(\u001b[0m\u001b[0mself\u001b[0m\u001b[0;34m.\u001b[0m\u001b[0m_entry_point\u001b[0m\u001b[0;34m)\u001b[0m\u001b[0;34m\u001b[0m\u001b[0;34m\u001b[0m\u001b[0m\n\u001b[0m\u001b[1;32m     87\u001b[0m             \u001b[0menv\u001b[0m \u001b[0;34m=\u001b[0m \u001b[0mcls\u001b[0m\u001b[0;34m(\u001b[0m\u001b[0;34m**\u001b[0m\u001b[0m_kwargs\u001b[0m\u001b[0;34m)\u001b[0m\u001b[0;34m\u001b[0m\u001b[0;34m\u001b[0m\u001b[0m\n\u001b[1;32m     88\u001b[0m \u001b[0;34m\u001b[0m\u001b[0m\n",
            "\u001b[0;32m/usr/local/lib/python3.6/dist-packages/gym/envs/registration.py\u001b[0m in \u001b[0;36mload\u001b[0;34m(name)\u001b[0m\n\u001b[1;32m     12\u001b[0m     \u001b[0;32mimport\u001b[0m \u001b[0mpkg_resources\u001b[0m \u001b[0;31m# takes ~400ms to load, so we import it lazily\u001b[0m\u001b[0;34m\u001b[0m\u001b[0;34m\u001b[0m\u001b[0m\n\u001b[1;32m     13\u001b[0m     \u001b[0mentry_point\u001b[0m \u001b[0;34m=\u001b[0m \u001b[0mpkg_resources\u001b[0m\u001b[0;34m.\u001b[0m\u001b[0mEntryPoint\u001b[0m\u001b[0;34m.\u001b[0m\u001b[0mparse\u001b[0m\u001b[0;34m(\u001b[0m\u001b[0;34m'x={}'\u001b[0m\u001b[0;34m.\u001b[0m\u001b[0mformat\u001b[0m\u001b[0;34m(\u001b[0m\u001b[0mname\u001b[0m\u001b[0;34m)\u001b[0m\u001b[0;34m)\u001b[0m\u001b[0;34m\u001b[0m\u001b[0;34m\u001b[0m\u001b[0m\n\u001b[0;32m---> 14\u001b[0;31m     \u001b[0mresult\u001b[0m \u001b[0;34m=\u001b[0m \u001b[0mentry_point\u001b[0m\u001b[0;34m.\u001b[0m\u001b[0mresolve\u001b[0m\u001b[0;34m(\u001b[0m\u001b[0;34m)\u001b[0m\u001b[0;34m\u001b[0m\u001b[0;34m\u001b[0m\u001b[0m\n\u001b[0m\u001b[1;32m     15\u001b[0m     \u001b[0;32mreturn\u001b[0m \u001b[0mresult\u001b[0m\u001b[0;34m\u001b[0m\u001b[0;34m\u001b[0m\u001b[0m\n\u001b[1;32m     16\u001b[0m \u001b[0;34m\u001b[0m\u001b[0m\n",
            "\u001b[0;32m/usr/local/lib/python3.6/dist-packages/pkg_resources/__init__.py\u001b[0m in \u001b[0;36mresolve\u001b[0;34m(self)\u001b[0m\n\u001b[1;32m   2438\u001b[0m         \u001b[0mResolve\u001b[0m \u001b[0mthe\u001b[0m \u001b[0mentry\u001b[0m \u001b[0mpoint\u001b[0m \u001b[0;32mfrom\u001b[0m \u001b[0mits\u001b[0m \u001b[0mmodule\u001b[0m \u001b[0;32mand\u001b[0m \u001b[0mattrs\u001b[0m\u001b[0;34m.\u001b[0m\u001b[0;34m\u001b[0m\u001b[0;34m\u001b[0m\u001b[0m\n\u001b[1;32m   2439\u001b[0m         \"\"\"\n\u001b[0;32m-> 2440\u001b[0;31m         \u001b[0mmodule\u001b[0m \u001b[0;34m=\u001b[0m \u001b[0m__import__\u001b[0m\u001b[0;34m(\u001b[0m\u001b[0mself\u001b[0m\u001b[0;34m.\u001b[0m\u001b[0mmodule_name\u001b[0m\u001b[0;34m,\u001b[0m \u001b[0mfromlist\u001b[0m\u001b[0;34m=\u001b[0m\u001b[0;34m[\u001b[0m\u001b[0;34m'__name__'\u001b[0m\u001b[0;34m]\u001b[0m\u001b[0;34m,\u001b[0m \u001b[0mlevel\u001b[0m\u001b[0;34m=\u001b[0m\u001b[0;36m0\u001b[0m\u001b[0;34m)\u001b[0m\u001b[0;34m\u001b[0m\u001b[0;34m\u001b[0m\u001b[0m\n\u001b[0m\u001b[1;32m   2441\u001b[0m         \u001b[0;32mtry\u001b[0m\u001b[0;34m:\u001b[0m\u001b[0;34m\u001b[0m\u001b[0;34m\u001b[0m\u001b[0m\n\u001b[1;32m   2442\u001b[0m             \u001b[0;32mreturn\u001b[0m \u001b[0mfunctools\u001b[0m\u001b[0;34m.\u001b[0m\u001b[0mreduce\u001b[0m\u001b[0;34m(\u001b[0m\u001b[0mgetattr\u001b[0m\u001b[0;34m,\u001b[0m \u001b[0mself\u001b[0m\u001b[0;34m.\u001b[0m\u001b[0mattrs\u001b[0m\u001b[0;34m,\u001b[0m \u001b[0mmodule\u001b[0m\u001b[0;34m)\u001b[0m\u001b[0;34m\u001b[0m\u001b[0;34m\u001b[0m\u001b[0m\n",
            "\u001b[0;32m/usr/local/lib/python3.6/dist-packages/gym/envs/box2d/__init__.py\u001b[0m in \u001b[0;36m<module>\u001b[0;34m()\u001b[0m\n\u001b[0;32m----> 1\u001b[0;31m \u001b[0;32mfrom\u001b[0m \u001b[0mgym\u001b[0m\u001b[0;34m.\u001b[0m\u001b[0menvs\u001b[0m\u001b[0;34m.\u001b[0m\u001b[0mbox2d\u001b[0m\u001b[0;34m.\u001b[0m\u001b[0mlunar_lander\u001b[0m \u001b[0;32mimport\u001b[0m \u001b[0mLunarLander\u001b[0m\u001b[0;34m\u001b[0m\u001b[0;34m\u001b[0m\u001b[0m\n\u001b[0m\u001b[1;32m      2\u001b[0m \u001b[0;32mfrom\u001b[0m \u001b[0mgym\u001b[0m\u001b[0;34m.\u001b[0m\u001b[0menvs\u001b[0m\u001b[0;34m.\u001b[0m\u001b[0mbox2d\u001b[0m\u001b[0;34m.\u001b[0m\u001b[0mlunar_lander\u001b[0m \u001b[0;32mimport\u001b[0m \u001b[0mLunarLanderContinuous\u001b[0m\u001b[0;34m\u001b[0m\u001b[0;34m\u001b[0m\u001b[0m\n\u001b[1;32m      3\u001b[0m \u001b[0;32mfrom\u001b[0m \u001b[0mgym\u001b[0m\u001b[0;34m.\u001b[0m\u001b[0menvs\u001b[0m\u001b[0;34m.\u001b[0m\u001b[0mbox2d\u001b[0m\u001b[0;34m.\u001b[0m\u001b[0mbipedal_walker\u001b[0m \u001b[0;32mimport\u001b[0m \u001b[0mBipedalWalker\u001b[0m\u001b[0;34m,\u001b[0m \u001b[0mBipedalWalkerHardcore\u001b[0m\u001b[0;34m\u001b[0m\u001b[0;34m\u001b[0m\u001b[0m\n\u001b[1;32m      4\u001b[0m \u001b[0;32mfrom\u001b[0m \u001b[0mgym\u001b[0m\u001b[0;34m.\u001b[0m\u001b[0menvs\u001b[0m\u001b[0;34m.\u001b[0m\u001b[0mbox2d\u001b[0m\u001b[0;34m.\u001b[0m\u001b[0mcar_racing\u001b[0m \u001b[0;32mimport\u001b[0m \u001b[0mCarRacing\u001b[0m\u001b[0;34m\u001b[0m\u001b[0;34m\u001b[0m\u001b[0m\n",
            "\u001b[0;32m/usr/local/lib/python3.6/dist-packages/gym/envs/box2d/lunar_lander.py\u001b[0m in \u001b[0;36m<module>\u001b[0;34m()\u001b[0m\n\u001b[1;32m      2\u001b[0m \u001b[0;32mimport\u001b[0m \u001b[0mnumpy\u001b[0m \u001b[0;32mas\u001b[0m \u001b[0mnp\u001b[0m\u001b[0;34m\u001b[0m\u001b[0;34m\u001b[0m\u001b[0m\n\u001b[1;32m      3\u001b[0m \u001b[0;34m\u001b[0m\u001b[0m\n\u001b[0;32m----> 4\u001b[0;31m \u001b[0;32mimport\u001b[0m \u001b[0mBox2D\u001b[0m\u001b[0;34m\u001b[0m\u001b[0;34m\u001b[0m\u001b[0m\n\u001b[0m\u001b[1;32m      5\u001b[0m \u001b[0;32mfrom\u001b[0m \u001b[0mBox2D\u001b[0m\u001b[0;34m.\u001b[0m\u001b[0mb2\u001b[0m \u001b[0;32mimport\u001b[0m \u001b[0;34m(\u001b[0m\u001b[0medgeShape\u001b[0m\u001b[0;34m,\u001b[0m \u001b[0mcircleShape\u001b[0m\u001b[0;34m,\u001b[0m \u001b[0mfixtureDef\u001b[0m\u001b[0;34m,\u001b[0m \u001b[0mpolygonShape\u001b[0m\u001b[0;34m,\u001b[0m \u001b[0mrevoluteJointDef\u001b[0m\u001b[0;34m,\u001b[0m \u001b[0mcontactListener\u001b[0m\u001b[0;34m)\u001b[0m\u001b[0;34m\u001b[0m\u001b[0;34m\u001b[0m\u001b[0m\n\u001b[1;32m      6\u001b[0m \u001b[0;34m\u001b[0m\u001b[0m\n",
            "\u001b[0;31mModuleNotFoundError\u001b[0m: No module named 'Box2D'",
            "",
            "\u001b[0;31m---------------------------------------------------------------------------\u001b[0;32m\nNOTE: If your import is failing due to a missing package, you can\nmanually install dependencies using either !pip or !apt.\n\nTo view examples of installing some common dependencies, click the\n\"Open Examples\" button below.\n\u001b[0;31m---------------------------------------------------------------------------\u001b[0m\n"
          ]
        }
      ]
    },
    {
      "cell_type": "markdown",
      "metadata": {
        "id": "Ab38uDj4J3xy",
        "colab_type": "text"
      },
      "source": [
        "# image rgbtogray\n"
      ]
    },
    {
      "cell_type": "code",
      "metadata": {
        "id": "rZjxUXijALks",
        "colab_type": "code",
        "outputId": "ac46bfb5-4e23-4e09-924d-6f7bc3e0ddd0",
        "colab": {
          "resources": {
            "http://localhost:8080/nbextensions/google.colab/files.js": {
              "data": "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",
              "ok": true,
              "headers": [
                [
                  "content-type",
                  "application/javascript"
                ]
              ],
              "status": 200,
              "status_text": ""
            }
          },
          "base_uri": "https://localhost:8080/",
          "height": 115
        }
      },
      "source": [
        "from google.colab import files\n",
        "\n",
        "files.upload()"
      ],
      "execution_count": 9,
      "outputs": [
        {
          "output_type": "display_data",
          "data": {
            "text/html": [
              "\n",
              "     <input type=\"file\" id=\"files-53879778-0f8b-46b3-9cd0-ec4ae3a3d5d2\" name=\"files[]\" multiple disabled />\n",
              "     <output id=\"result-53879778-0f8b-46b3-9cd0-ec4ae3a3d5d2\">\n",
              "      Upload widget is only available when the cell has been executed in the\n",
              "      current browser session. Please rerun this cell to enable.\n",
              "      </output>\n",
              "      <script src=\"/nbextensions/google.colab/files.js\"></script> "
            ],
            "text/plain": [
              "<IPython.core.display.HTML object>"
            ]
          },
          "metadata": {
            "tags": []
          }
        },
        {
          "output_type": "stream",
          "text": [
            "Saving example.jpg to example.jpg\n"
          ],
          "name": "stdout"
        },
        {
          "output_type": "execute_result",
          "data": {
            "text/plain": [
              "{'example.jpg': b'\\xff\\xd8\\xff\\xe0\\x00\\x10JFIF\\x00\\x01\\x01\\x00\\x00\\x01\\x00\\x01\\x00\\x00\\xff\\xdb\\x00\\x84\\x00\\t\\x06\\x07\\x13\\x13\\x12\\x15\\x13\\x12\\x12\\x15\\x16\\x15\\x15\\x18\\x18\\x18\\x18\\x18\\x15\\x18\\x18\\x17\\x18\\x17\\x18\\x15\\x17\\x17\\x17\\x17\\x15\\x15\\x16\\x18\\x1d( \\x18\\x1a%\\x1d\\x15\\x15!1!%)+...\\x17\\x1f383-7(-.+\\x01\\n\\n\\n\\x0e\\r\\x0e\\x1b\\x10\\x10\\x1b-%\\x1e%--------------------------------------------------\\xff\\xc0\\x00\\x11\\x08\\x00\\xc2\\x01\\x03\\x03\\x01\"\\x00\\x02\\x11\\x01\\x03\\x11\\x01\\xff\\xc4\\x00\\x1b\\x00\\x00\\x01\\x05\\x01\\x01\\x00\\x00\\x00\\x00\\x00\\x00\\x00\\x00\\x00\\x00\\x00\\x04\\x00\\x01\\x03\\x05\\x06\\x02\\x07\\xff\\xc4\\x00?\\x10\\x00\\x01\\x03\\x02\\x03\\x05\\x06\\x05\\x03\\x01\\x08\\x00\\x07\\x00\\x00\\x00\\x01\\x00\\x02\\x11\\x03!\\x041A\\x05\\x12Qaq\"\\x81\\x91\\xa1\\xb1\\xf0\\x06\\x132\\xc1\\xd1BR\\xe1\\x14#br\\x82\\xa2\\xb2\\xd2\\xf1\\x07\\x15\\x163Sc\\x92\\xff\\xc4\\x00\\x1b\\x01\\x00\\x02\\x03\\x01\\x01\\x01\\x00\\x00\\x00\\x00\\x00\\x00\\x00\\x00\\x00\\x00\\x00\\x01\\x02\\x03\\x04\\x05\\x06\\x07\\xff\\xc4\\x002\\x11\\x00\\x02\\x02\\x01\\x03\\x02\\x03\\x06\\x05\\x04\\x03\\x00\\x00\\x00\\x00\\x00\\x00\\x01\\x02\\x03\\x11\\x04\\x12!\\x051AQq\\x13\"2a\\x81\\xb1\\x06\\x14\\x91\\xa1\\xc1Bb\\xd1\\xe1\\x15#3\\xff\\xda\\x00\\x0c\\x03\\x01\\x00\\x02\\x11\\x03\\x11\\x00?\\x00\\xc0\\x86\\xa5\\x08\\x8f\\x96\\x98\\xd3U\\x13!\\x84\\xa1M\\xf2\\xd3n \\x08\\xe1(]\\xee\\xa5\\xba\\x808\\x84\\xeb\\xb1L\\xa7\\xf9h\\x029N\\x02\\x93t\\'\\x84\\x01\\x18b\\xebqt\\x92@(J\\x13\\x14\\xe1\\x00(L\\x02yI\\x004%\\xba\\x9c$\\x809\\xdd\\tn\\x04\\xf0\\x90L\\x0ew\\x13n)\\x02t\\x01\\x17\\xcbLX\\xa5%2\\x00\\x8fq/\\x96\\xa4I0#\\xf9k\\x9f\\x97\\xc9J\\x922,\\x10\\xfc\\xbeI\\xbe_%2td\\x01\\xfeZo\\x96\\x88I\\x19\\x187\\xcbI\\x10\\x922\\x05\\xddM\\x94\\xf1\\xa2\\x1d\\xf8\\'\\x0f\\xd2\\xb7\\xaf\\xc1\\x05\\x03\\xf0|\\x947\\x06\\x0c)\\xc2\\xbb\\x82\\xe7\\xe4-\\x9dL\\x07$-M\\x96\\x0e\\x88\\xc8`\\xcb|\\xa0\\x91b\\xd0T\\xd9A\\x0e\\xfd\\x96tK#)K\\x17%\\xaa\\xd1\\xfb=\\xc1B\\xec)\\x1a&\\x05yj\\xe0\\xb0\\xa3]MrX\\x80\\x05\\x84\\x91\\x05\\x8b\\x92\\xc4d\\x08\\x12M\\x88\\xac\\x1bl\\xcf\\x0f\\xca\\x11\\xd5IS\\x8c\\\\\\x88\\xb9$\\x19!v\\xd6J\\x16\\x88*\\xc2\\x8b\\x16\\xca\\xf4\\xc9\\xf7(\\x95\\xcdv#\\x18i\\xe0\\xba\\xfe\\x95\\xda_\\xa1\\xfb\"\\xd8\\xd4^\\x1a\\x94\\x95k\\xd2C\\x04ct\\xdb\\xc2(\\xcbJP\\xb6n\\xc1R\\xaa!\\xf0\\xd3\\xa4\\x00#\\xbdf\\xb6\\xa6\\xcd}\\x17C\\xb29\\x1e+\\x98\\xe5\\x1c\\xfb\\xaf(\\xeb[\\xa0\\xbe\\xa8)\\xcd\\x7f\\xa0\\x14\\xcb\\xa2\\x17\\x1b\\x882\\x0f\\t\\xa1t\\x12\\x94\\xc4r\\x94.\\xa52\\x00hLJ\\xe94 \\x0ee:t\\x90\\x03&O\\t \\x06I:H\\x19\\xea\\x146\\xd5\\'j\\x02-\\x95\\xa9\\xbb\\'\\x05\\xe7\\x12Wl\\xae\\xe1\\x91*\\x9d\\xa4\\xb2z1\\xa6\\x0e\\xa1D\\xec:\\xc5\\xd1\\xda\\xf5[\\xaf\\x8a\\xb0\\xa1\\xf1+\\xbfP\\x94a\\x87\\x05\\xff\\x00\\xf4M\\xe0\\x14g\\x088!p\\xdf\\x120\\xe7du-\\xa7I\\xd98#,X\\x03\\xab\\x84A\\xd4\\xc2F\\x8a\\xfd\\x85\\xa7P\\x99\\xf4%\\t\\x86\\x0c\\xdb\\xb0\\xc3P\\x85\\xad\\x80\\x1c\\x16\\x9a\\xae\\x08!\\xdf\\x82\\xe0\\xa4#,\\xec\\x00T\\xfbo\\x10)C\\x1ae\\xee\\xff\\x00H\\xe2V\\xbfj4R\\xa6\\xea\\x8e\\xc9\\xa3\\xc4\\xe8<W\\x9a\\xe3*\\x92\\xf7=\\xdfS\\x89\\xf0\\x16\\xf0\\xb2\\x9c\\x16X\\xa4\\xce\\xa9\\x8e&J\\x9e\\x98A\\xd2t\\xab\\x0c3V\\xfa`f\\x9b\\t\\xa2\\xc4u \\xa0\\xa2\\x11t\\xc2\\xd9\\x14P\\xf9%\\xa6\\xd5k\\x87\\xa3\\x03\\xd5s\\x80\\xc3Cw\\xc8\\xbb\\xac\\xde\\x837}\\x87\\x7f\\x04s(\\x9e\\x0b\\x99\\xd45<{(\\xfd\\x7f\\xc1\\xea:\\x0fOM\\xfef\\xce\\xcb\\xe1\\xf5\\xf3\"\\t\\xb1\\x0c\\x0fn\\xe3\\xae=:)\\xda\\xc5\\xcdJp\\xb9\\t5\\xd8\\xf5r\\xdb.\\x19\\x92\\xc5a\\x8b\\x1cZt\\xf3\\xe6\\xa1-Z\\r\\xafB[\\xbd\\xab}\\n\\xa5sV\\xb8Kr<f\\xbfK\\xf9{\\x9cWn\\xe8\\x1c\\x84\\xb7T\\xc5\\x8b\\x9d\\xd5<\\x98\\x08\\x88\\\\\\x95)jm\\xc4\\xf2\\x04k\\x8b\\xf2R\\x96\\xa6!\\x00p\\x13\\xa7\\x84\\xa1\\x002hO\\t\\x93\\x01\\x92L\\x92\\x00\\xd8\\xd7\\xd8N\\x19 *\\xe0\\x1e\\xdd\\x17\\xa7\\xbb\\n\\xd2\\x86\\xab\\xb3\\x1atUnC\\xc1\\xe6.\\xa4F\\x8b\\x82\\xd5\\xe8\\x18\\x8d\\x84\\x0f\\xe9U\\x18\\xaf\\x87\\xb8)dFV\\x17A\\xc4dJ\\xb4\\xaf\\xb1\\xde\\xd4\\x15\\\\3\\x9b\\x98@djx\\xc7\\x8c\\x9cQ\\xd8}\\xba\\xf6\\xe7uXX\\xb9\\x84\\xb0\\x87\\x93QG\\xe2\\x06\\xbb\\xff\\x00p+*;B\\x83\\xff\\x00j\\xc2%\\xbcFE,?\\x06\\x1c\\x17\\x7f\\x1dU\\x0e\\x14\\xd8\\xc3\\xd9\\x12\\xe7w\\x0b}\\xfcW\\x9b\\xe3\\x9du\\xaf\\xda,\\x9a\\x1b\\xf3.\\xbf\\x80\\xb7\\xd9fF\\x18T;\\xa4\\xee\\x93\\x919N\\x9b\\xdc\\x8f\\x1d\\x14\\xa3-\\xbd\\xc4\\xe3\\x9e\\xc0\\xf8UkAV\\x8a.a,x!\\xc30}\\xe4\\xac\\xf0\\xab\\xabKMpc\\x9f\\x0c:\\x8a\\xb3\\xd9\\xd4C\\x9e7\\x8c4]\\xc7\\x80\\x19\\xc7>\\x03\\x89\\n\\xb6\\x92\\xb8\\xc0\\xd3\\x8bq\\xb9\\xfb\\x0f\\xbf\\x82\\x95\\xf6\\xaa\\xabre\\xda-,\\xb57*\\xd7\\xd7\\xe4\\x8bl8\\xde3\\x11\\xc0g\\xba\\x06M\\x95\\xa1\\xc0l\\xa7\\xb9\\xbb\\xd1\\xd9TX#\\x0bi\\xb1\\xf6\\x8e\\xe3 \\x1e\\xe5\\xc3\\xaf\\xdey\\x91\\xedu[\\xa8\\xa9F\\xa5\\xdb\\x83;\\xb4p;\\xb9*\\xd7\\x9b-&\\xd6\\xaa\\xd2m\\xdf\\xde\\xb3\\x95\\x94,X|\\x1a4\\xb3\\x94\\xa2\\xb7\\x02\\xd5d\\x828\\xd9Q\\x1a!h\\x08BW\\xc1\\x19\\x98\\xcf\\xeftR\\xfb\\xa3\\x9b\\xd7`\\xb6\\xc2^\\xa8\\xa848\\x15\\xc1\\xa0U\\x85L1\\n#L\\xab\\xf2y\\xb0\\x03D\\xf0\\\\\\x16+\\x02\\x98\\xf4FDV\\x96&\\xdcFV\\xa3&\\xc6;\\x97.\\xc2\\xf0q\\xf2\\xf7\\xa2\\x90\\x80\\xf7\\x17\\x05\\x88\\xe3\\x87\\xf7\\xe2\\xb8v\\x18\\xfb\\xefFF\\x05\\xb8\\x98\\x84[\\xa9\\x15\\x19b2\\x00\\xf0\\x92\\x9bt$\\x98\\x1e\\xe0\\x12\\x010\\x0b\\xa5\\x9c\\xb0Er\\xeacU\\xd8L\\x10 g\\xe0\\xdatU\\xf8\\x9d\\x90\\x0e\\x8a\\xe57z{\\x98\\xb0\\x8c\\x96+`\\x8e\\n\\xa7\\x11\\xb0H\\xc9z\\x0b\\xc2\\xa0\\xdb\\xbf\\x11ap\\xf2\\xda\\x8f\\x97\\xfe\\xc6v\\x9d\\xdf\\xa3{\\xd4\\x94\\x84\\xd1\\x8e\\xc4l\\xc7\\x8d\\x10o\\xa0\\xe1\\x98*}\\xa3\\xf1\\xe4\\xc8\\xa7A\\xa0qy.>\\x02#\\xcdTT\\xf8\\xbe\\xa9\\xcd\\xb4\\xff\\x00\\xfc\\x9f\\xca\\xb7k#\\xb8;\\x12\\xf8\\xa5\\x07\\xf7\\x11\\xe2\\'\\xf2\\xa8\\x1dN\\n#\\x1d\\xb7~k7\\\\\\xc6\\x83 \\x82\\xd9\\x1e \\x92\\x9a\\x90\\x90\\xa9\\xb31-\\xaf\\x90\\xea\\x14\\x1b\\x88`c\\xcc=\\xb6k\\xf9~\\xd7q\\n*\\xd8*\\x94]\\xbbQ\\xb0s\\x04]\\xae\\x1cZuO\\x83%\\x8e\\x95\\xae\\xc0WeF\\x8aUX\\x1e\\xc7ht:\\x16\\x9c\\xc1\\xe6\\x15Uk\\'\\xa7\\x97l\\xc7\\xc8vP\\xac\\xf52\\xf8!~\\x9aq\\xe4\\xaf\\xf0\\xa2\\x05\\xf3\\xd5\\tSf\\xb6\\x9dS\\xf2\\x9d\\xbc\\xd1hq\\xbc\\x8b\\x18vG^\\x08\\x9aO\\xd0\\x82\\x0f\\x03b\\xb4\\xeb\\xae\\x95\\x98\\xc2\\xf7N\\xbf\\xe1\\xc7\\xa6[\\x92\\x9avg\\rx\\xa4\\x83\\xe9\\xba\\x11\\xf4q$*\\xdah\\xbab\\xcb\\x1cdz;\"\\x9frgT\\xcf\\x9a\\x16\\xa1R\\xef\\xa6-\\x94\\xdb\\xc9\\x18\\xf0@\\x04\\xab\\xaf\\xe9\\xda`\\x0fqo}U}\\n\\x17$\\xe4<\\xce\\x8aZ8w^\\xe4tV\\xd3[i\\xb3\\xca~$\\xea\\x95\\xd3et\\xb4\\xdfv\\xf1\\xe1\\xe5\\xfc\\x9d\\xd5\\xc14\\xde\\x02\\x06\\xae\\xce\\xf7\\xef\\xdd\\x91U\\x9fU\\xa2Gh\\x0c\\xe3?\\x04\\x1bv\\xdbf\\xf2=}\\xfeU\\x92R\\x8fs\\x91M\\xf5\\xdc\\xb3\\x07\\x90Z\\xbb;\\x92\\x1e\\xa6\\x0e4W,\\xc7Sq\\xcf\\xdf\\xb3\\xe4\\x9d\\xdb\\x8e\\xd4g\\xe5\\xec\\x04e\\x17\\x19\\xe7\\xe1o\\xef\\xde\\x8a\\'Q+CS\\x04\\x0eG\\xd9\\xb7\\xdd\\rW\\x02\\xed!\\x00R:\\x89\\x00{\\xcdpX}\\xf7\\xab\\x1a\\xd4j\\x08\\xecH\\xff\\x00\\xa4=J\\xb1\\xf50\\x84\\x00!&\\xeb\\x97\\x11\\xc1\\x12k\\xb2\\xfauC=\\xe3N\\xa9\\x81\\xcf\\xcbo\\x04\\x97\\x1f7\\x92t\\xc0\\xf5\\xe6|\\xcc\\xed\\xde\\x9c=\\xe30<VWg\\xfcuM\\xc6*\\xb0\\xb7\\x98\\xb8\\xf0\\xd1i0{J\\x8d[\\xb1\\xe1\\xd3\\xa4\\xc1\\xf0\\xcc(\\xb9|\\x90(|\\xd8b@\\xaeg\\xb8.\\xb7\\x95d\\xc7\\x85\\xc1v\\xbay\\x04\\x81\\xc9`\\xbf\\xf1\\x13\\xe2\\x12\\xd0p\\xd4\\x8cH\\xfe\\xd5\\xc38\\xfd\\x83\\xae\\xa9\\xa8\\xeex\"\\xde\\x11\\x07\\xc5\\xbf\\x1b\\x97\\x13G\\x08\\xe8\\x19:\\xa8\\xcc\\xf1\\x14\\xf8\\x0f\\xefx,m*s\\xcfRs\\'\\x89%\\x0bI\\xe8\\xec9]==)\\x19l\\x99\\'\\xf4\\x0cp\\x82\\xde\\xf1b\\xab\\xf1\\x9b\\r\\xe2\\xf4\\xce\\xf0\\xe1\\xfa\\xbf\\x95wD\"\\xe8\\x85\\xb1\\xd3\\t.QJ\\x9bG\\x9f\\xbd\\xa6`\\xc8<\\n\\xb5\\xd8\\xd8\\xc8!\\x8e\\xee?e\\xaa\\xc6\\xec\\x8auGhA\\xd1\\xc31\\xf9\\x1c\\x8a\\xcc\\xed\\x1d\\x81R\\x95\\xe3y\\xbf\\xb8}\\xc6\\x8b\\x9f~\\x99\\xe3\\xe4i\\xaa\\xeeM\\x0b0\\xf2,\\x89\\xa1\\x8a4\\x98]\\xfa\\xbe\\x96r\\'7w\\x0f8Y\\xdd\\x8f\\xb6\\xddH\\x81P\\x177\\x8e\\xa3\\xf2\\xac6\\xce-\\xae\\xdd}7\\x02\\xc2L\\x00n#G\\r\\x0e\\xbe\\x1c\\x17%U-\\xf8\\x97cU\\x96\\xad\\x8d\\xae\\xe5\\xae\\x1c\\xdb4k+Z\\x1c\\x01\\x03Cx\\xe9\\xc3\\xb9f0[CBU\\xce\\x1b\\x12\\x0ek\\xa9\\x16\\x9f\\x0c\\xf2:\\x8a\\xe7\\x07\\xba9R]\\x9a-in\\xfe\\x92G#q\\xdcs\\xf5F4>\\x08ii\\x078 z\\xc1U\\x0c\\xc4\\xb2bD\\xf0\\x17>\\x01\\x1f\\x87t\\xf1UYM+\\x96\\xf0u\\xb4_\\x88\\xba\\xbcq\\x14\\xb7\\xaf\\xee_\\xca\\xc10\\xc2\\xbf\\xf6\\xfa\"\\xf0\\xb8G\\x1c\\xed\\xcc\\x91\\xf9]\\xe1\\xf0\\x84\\x89\\xb8\\nlM\\x02\\xdan \\xfd\"O03\\xbfI=\\xcb\\x0b\\x9e\\x9e2Q\\xdd\\x96\\xcfMOU\\xea\\x97\\x7f\\xe9\\\\ \\xbc\\xfb\\xb5\\xf4\\xc8+\\xeb4vC\\xa4\\x03\\x9cg\\xd1NjH\\xec\\xdf\\xa2\\xa5\\x15\\xdam\\x07\\xba\\xe8\\x8a-\\xd5\\xa7.\\xe2;\\xb3\\x0bf-\\xab\\x99G\\x82\\x9dgG\\xd0\\xf5\\x19\\xcaP\\xbd\\xab\\x1f\\x9e?e\\xc7\\xec\\xc3\\xda\\n\\xae\\xda\\xdb0T\\x04\\xb4\\x00\\xf1\\x91\\xd1\\xdc\\x8f\\xe5YP\\xaf\\x1fX\\x91\\xca\\xc7\\xf9D\\xba\\x80\"ZA\\x1ec\\x91\\x0bLm\\xae\\xd5\\x86x\\x9doE\\xea\\x1d\"~\\xd6>\\xf4W\\x8a\\xed\\xf5^\\x07\\x9dv\\x9b\\x9c\\x83\\x94p\\xd1v\\xdcS\\x86\\xaa\\xef\\xe2<\\x0cEA\\xad\\x9d\\xd7C\\xef\\x92\\xa0\\xdd\\xf7\\xd5g\\x9c6\\xbc3\\xd0\\xe95Q\\xd4T\\xac\\x8f\\x8f\\xdc.\\x9e\\xd5x\\xd6}\\x94c6\\xe9\\x8b\\x8e^\\x83\\xf2\\xa9Kn\\xb9!W\\xb4\\xd4jY\\xb6\\x98s\\xf7\\x7f\\xe1KO\\x15M\\xd9\\xc6\\x9e\\x8b%\\xaf\\xbei\\x07\\x9e>\\xe1\\x18\\x11\\xac\\xa9\\x82\\xa4\\xf3\\xa7\\xb8(*\\x9b\\x11\\xa7#\\xeeHT\\xcc\\xc6\\xb8d}\\xc2&\\x9e\\xd6p\\xcf\\x9f\\xe5\\x1c\\x8c\\x95\\xdb\\x14\\xa7O\\xff\\x00\\x9c$\\x8c\\x86\\x0c\\xc3^\\xa7\\xa5\\x89-2\\t\\x07\\x92\\x07yt\\x1c\\xa6#S\\xb3\\xbe/\\xc4S\\x89~\\xf8\\xe0\\xfe\\xd7\\x9e~kS\\xb2\\xfe5\\xa0\\xfbU\\x9an\\x9e\\xad\\xf1\\x8b/.\\x0e]o(\\xb8\\xa1\\xa6z\\xd63\\xe2\\x9a\\r\\x0f\\x0c~\\xfb\\x9a\\xd2d]\\xa2-\\x9fz\\xf1\\xed\\xad\\x8d\\xf9\\x95\\t\\x99\\x933\\xc5KR\\xab\\xa1\\xc1\\xb3$\\x01nd(pX@_\\xda\\xbf-\\x13\\x8b\\x8c\\x16Y\\x19E\\xc9\\xf0I\\xb3pO\\xa8@kI\\x9dt\\x8dn\\xb5\\xb8\\x0f\\x84\\xea\\x13\\xda-h\\xf1\\xf4\\xf7tn\\xc6\\xa4\\x00\\x90\\x00\\xe9\\xc8G\\xd9ip\\x8eX,\\xeb\\x16{M\\x90\\xe1~\\xe6\\x8a\\xf4Qk2\\xe4\\xac\\xc3|)H}Oy\\xe9\\x01\\\\\\xe1~\\x1b\\xc3\\x8f\\xd0ORT\\xcc\\xcdXa\\xf2\\\\\\xea:\\x96\\xaa\\xdb\\xb19\\xbc~\\x9fcK\\xd3U\\x15\\xc4P3vE\\x11\\x951\\xe6\\xa6n\\xcc\\xa5\\xff\\x00\\xc6\\xdf\\x0f\\xca)\\x82\\xe9m|cp\\xd4MW\\xc7\\xf7F\\xae<\\x02\\xad[\\xaa\\xba\\xc7\\xb2\\xc9c\\xd5\\x91p\\xaa+\\x98\\xaf\\xd0\\xc7\\xfcI\\xf06\\r\\xcduM\\xef\\x90\\xec\\xe4}\\x04\\xf0\\xdc\\xff\\x00\\x8a\\xf2LF\\x10\\xb1\\xee\\rt\\xc1\"FF5\\x82\\xb6\\xdbwl\\xbf\\x10\\xed\\xe7\\x9e\\x80d\\x07\\x00\\x16^\\x96%\\xady/n\\xf0\\xbf\\x8e\\x87\\xc5u\\xb4j\\xd8\\xacNY\\xf5(\\xb61}\\x96\\x08\\xf6v\\x05\\xf5j6\\x98-k\\x9d0\\\\H\\x04\\x80LL\\x18&\\x17\\x7f\\xd3<8\\xb1\\xee61\\xba\\xd3\\x9f\\x82\\x93\\x0c\\xc7>^\\xdb\\x06\\xc1\\x9c\\xa0\\xe9\\x05M\\x81\\x00\\xbeO\\xfd\\xf2Z\\x9d\\x8c\\xce\\xe8\\x89i\\xb2\\xa9\\x01`\\x00\\x1c\\x96\\xa7\\x05\\x87\\xb0\\x95K\\xb2\\xe9\\xcb\\x87%\\xa8\\xc3\\xd3\\xc9r\\xb56\\xcaRQF\\xca \\xa0\\xb8\\x0c\\xa0\\x8d\\xf9{\\xd4\\xdc8\\xb5\\xc3\\xc4\\x14% \\xad0\\xd4\\xfc\\xd68\\xc9\\xfbi?$i\\x7f\\t\\xe7T]\\x01\\x17K\\x13\\xc7\\xf9BSl[\\x85\\xbc\\x14\\xcd\\x0b\\xe9\\x10JQG\\x98\\x93i\\x96\\xfb?\\x1e\\xcd\\xed\\xda\\xbfI\\xfdc1\\xfe!\\xa8\\xe6<\\xd5\\x86)\\xbf-\\xd2\\xd2\\x08\\xf2p>\\xa1f\\xe1\\x17\\x84\\xaecp\\xe5\\xfayr\\\\\\xfdf\\x89(\\xb9\\xd6\\xbb\\x1d\\xce\\x9b\\xd4\\x1c\\xe7\\xecoy\\x8b\\xe3\\x9f\\xb3-+aEf\\xee\\x0c\\xaa[\\xa1\\xd3\\xc0\\xc2\\xc1\\xd6\\xa7\\xban\\x08\\xbf\\xdb%\\xbe\\xd8/\\xfe\\xd04\\xf1\\x91\\xd4%\\x89\\xd8\\x8c/s\\x8c\\xdd\\xc4\\xf2\\xfd\\xde\\x9e\\xab\\x94\\xb5\\nr\\xc4\\xbb\\xe3\\xf92K\\xa5\\xff\\x00\\xc7\\xdbd+\\xf8\\x1b\\xcc}\\x1a\\xed\\xf4g\\x9do\\x8b\\xfb\\xd1&\\xc1\\xb8\\xf7\\x01m\\xf1\\x1b\\x10\\x1f\\xd0/\\x1aj\\x7f\\x8b*\\xda\\xdb\\n\\xd0\\xd1\\x19\\xda4\\x9f\\xc2\\x93k\\xc0k&kw\\xdfr\\xe4\\xb6\\xfd\\xff\\x00eyWc\\x90m\\xecB\\x0e\\xa6\\xcep1\\x1a\\xfd\\x82\\x06V\\xee\\xaewn\\x8c\\xa9\\x87 \\xdc(\\x0b/\\xef\\xa2\\x00\\x80\\xb7\\x92H\\x8d\\xc4\\x90\\x05\\x12`}\\xff\\x00\\xdaI)\\x08p\\x13\\xcf\\xbc\\xd7\\x04\\xa5\\x1e\\xca@t\\xd7C\\x9b\\xd7\\xf8\\xfb\\xa20\\r\\xfe\\xd0!\\xb7d\\x84~\\x1c\\\\\\x1e>GP\\xa9\\xbb\\xb1:\\xdf\\xbd\\x86l\\xb6I\\xb4+\\xdc.k;\\xb2\\x9f`\\xb4\\x187/7r\\xc5\\xeb\\xe8t\\xab\\xf8K&#\\xb0\\xc5\\x00\\x11\\x98b\\xaa\\xa9\\xa8\\xeax\\xf3&\\xfe\\x12lN)\\xb4\\x9a\\xea\\x8f0\\xd6\\x89=\\xdfu\\xe5\\x7f\\x10\\xed\\xca\\x98\\x9a\\x85\\xcf\\'tY\\xad\\xd1\\xad\\xe09\\xf1*\\xff\\x00\\xe3\\x8d\\xab\\xbe\\xef\\x90\\xc3\\xd9m\\xdf\\xcd\\xda\\x0e\\xef^\\x8b\\x1bQ\\x8b\\xb1\\xa6\\xa9A\\xc9\\xf9\\x99f\\xf2D\\xfa\\x9d\\x92\\xaa*\\t05G\\xe2N\\x8a\\x0c-)t\\xf0Z\\xe0\\xf8eme\\x975\\x00\\xa7\\x87\\r\\x1a\\xe6\\xab\\xf6a\\xed\\xf7)\\xf6\\x95K\\x06\\xf0\\x01E\\xb33\\x8fy~TS\\xf7Y\\x19.Mn\\xc8m\\xc1\\xe6\\xb54\\x05\\x96Wc\\x18Z\\x9c6K\\x95l\\xda\\x9b\\xf44\\xd6\\xb8\\t\\xa2\\xadh\\x9c\\x95u&\\xe4\\xac\\xa9\\x0b\\x8e\\xaa\\x9a2\\xe19?\\x14Y/\\x03\\xcf*\\xb2\\x1e\\xf1\\xc1\\xee\\x1f\\xea*Zt\\x94\\x98\\xb6Ez\\xa3\\xff\\x00\\xb1\\xff\\x00\\xef(\\xdf\\xe9\\xdda\\xec/\\xa3\\xd1/\\xfa\\xa3\\xe8\\x8f3g\\xc6\\xc0\\xd8\\xce+\\x9a\\xac\\x84EZD(\\\\\\xb4\\xaeJ\\xfb\\x16{.\\xa4\\x96\\x91\\x9e\\xf0\\x9e\\xa0\\xe8\\xaf\\xaa\\x8e\\xceW\\x87[\\xfcV\\xe09\\xac\\xe6\\xc5\\x8f\\x99\\x07\"<\\xfc9\\xad\\x1b\\xa0@\\xd3\\xb2<$\\xfa/=\\xaf\\xae\\x15\\xd8\\xa3\\x15\\x8e>\\xec\\xea\\xd7u\\x97{\\xf3y\\x7f\\xe0m\\xcb\\xccdg\\xcb\\xa2\\x8d\\xb4\\x81\\xb4d\\x04\\xf8\\xf4R\\xd3i\\x899\\xdf\\xcf\\\\\\x87$\\x98\\xc8&5?n\\x8b\\x0eK\\x01*\\xe1\\x1aL\\x81\\x16w~\\x88J\\x98\\x119\\x0c\\xc7\\x0b\\x18\\xba\\xb3c|\\x00\\xe0`\\xcfw\\xb9H4\\xefO39\\xdcE\\x8f\\x92jL[QC_e\\x893\\xcb\\xbdV\\xe2v+on>\\xbdV\\xc87\\xcf\\\\\\xb2P\\xe2(\\\\[2\\xe1\\xe3~\\xfc\\x94\\xb7\\x8bi\\x85\\xa9\\xb1\\xcc\\xa4\\xb6\\x87\\x04\\x0f\\xf2\\x9dKr\\x0c\\x1e!>\\xc4\\xa5>\\xee\\xb5\\x18\\x9f\\x84\\xe4\\x9f\\x96\\xf1\\x17\\x8d\\xe9\\xd3I\\n\\xa3\\x13\\xb0\\xeb\\xb2f\\x9b\\x88\\x12m\\xda\\xb0\\xd6\\xda)\\xa9\"%p=R\\xf7\\xec\\'\\xf9g\\x87\\xbe\\x8b\\x92\\xdfp\\x98\\x08\\x9fw\\n\\xc7\\x07Ro\\xd2y\\x1d\\x1d\\xde\\xabH\\xf7\\x0b\\xbc=]\\xc3:k\\xcd)G+\\x04[i\\xe5\\x1b-\\x94\\xee+O\\x82\\xd1av~4\\x0c\\x8c\\xb7\\x86\\xad\\xee\\xd4-^\\xcf\\xc5\\x83\\x04\\x15\\xe7\\xf5\\x94J\\x13R\\xc7\\x07GOlf\\xb84-*\\r\\xad\\xb4~M2G\\xd4l\\xde\\xbc{\\x93\\x1c[Z\\xdd\\xe7\\x18\\x03\\xdc\\x05\\x95\\xdaX\\xc3U\\xe5\\xc7,\\x80\\xe0\\x155i\\x94\\xf5\\x1b\\xff\\x00\\xa7\\xb9l\\xe7\\x88\\xe3\\xc4\\x01\\xf7$\\x9c\\xcd\\xca\\x0f\\x10Q\\x15\\xde\\x82\\xa8\\xe5\\xd3\\xdd\\x99\\xe1\\x14c\\x80\\x1cH]aj7,\\x8f5\\x1e\"\\xa2\\x15\\x95D\\xc2\\xbe\\t\\xb6\\xf0S9mY,1\\xad\\xb9:\\'\\xd9\\xc2\\t\\xeeB\\xe2K\\x87i\\xa4\\x80D\\xc6\\x9e\\t\\xb0\\xb8\\xa7M\\xe0\\xf7G\\xa2\\xb3\\xd8K\\x1c\\x14\\xbdL\\x17,\\xdb\\xec\\xf6\\xc2\\xd3a]!b\\xb6~\\xd6\\x036\\x95}\\x83\\xdb\\r\\x19\\x83\\xec~W6\\xcd%\\xfb\\xdbQ\\xca,\\x87P\\xd3%\\xcc\\xd2\\xf5\\xe0\\xd5a\\x025\\xb9\\x85A\\x87\\xdbt\\x86\\xa7\\xc1Ya\\xb6\\xbd\"\\xe1\\x04\\x9b\\xe5\\n\\x88\\xe9.\\xf6\\x1b64\\xf3\\xe4\\xcb\\x1fP\\xd2\\xb7\\xc5\\x91\\xfdQ\\x98\\xc48\\x7fUX\\xe6>mO\\xf7\\x15\\xb0\\xf8v\\x95=\\xd2\\xf7\\x11$X\\x9d\\x0f\\xa0\\xc9bE\\x07\\x1a\\xd5\\x04\\x89\\x15\\x1e\\x0c\\x90\\xdb\\xef\\x1b\\x99\\xc9^\\xd3\\xc2\\xe2\\xb7 7\\xb1\\x1f\\xb9\\xb1\\xea\\xbd\\xa4-\\xaf\\xd9F;\\xb9\\xc20\\xcbG{\\x96\\xed\\xbc>W\\xcc\\xe3m=\\xa5\\xe7w%P\\xe4MPA\\x83\\x1e\\xbft\\xc0\\xf2V\\xae\\xa1D\\x163\\xfb\\x17G\\xa2\\xeb\\'\\xfd)}Q>\\xc4o\\xf6\\xa1h_\\x9f\\x89\\xd7S\\x9a\\xa7\\xd9C\\xb6\\r\\xb5\\xf4V\\xd6.&\\xd61\\xa7\\xf3\\xc5ru\\x9a\\x88\\xdff\\xe8\\xf6\\xc1o\\xe4\\xe7\\xa6\\xf7&\\xd6{\\xf0HE\\xba\\xc7\\x1e\\xe5\\xcb\\x07\\x0ew\\x11\\xa7B\\x9a\\xa3\\xf2\\xe6I\\xd3M-\\xdc\\x9c\\x0e\\xcf87\\x11\\xaa\\xc8\"*z\\x98\\x19\\t\\xcb\\xc3\\x8f\\x8a\\xe9\\x8c\\xbc\\x9c\\xc3\\x8ce\\xd3\\xd1;o\\xbd\\xca\\x06c\\xaa\\xe5\\x99\\xf5q\\x9b\\x9e\\x97\\x00F\\x88\\x01\\xdd\\x96\\x99N\\x9cz\\x14\\xf54\\')\\x9d8&}\\xb2\\xe1>\\xc8\\x12\\x9e\\xa3\\xacH?\\xb4\\xf4\\x9c\\xf3\\xe4P\\x02\\xa6dd\\x0f\\x87\\xe1%\\x1c\\xc7\\xb7\\x1c\\xfa\\xa4\\x8c02\\xf4\\xabD\\t\\xe4$\\xa9Z\\xedO|\\x1c\\xf8O\\xbdP\\x8c\\xa9\\x1a\\x90:\\x03\\xff\\x00eH&$\\xdbY\\xb5\\xaf\\xe6T\\x88\\x9dU\\xc0R\\xa9\\xf5\\xd3i:\\xe8z\\x922\\xe8\\xabq\\xbf\\x0ba\\xc8\\x10M2l\\x00;\\xc3\\xbc\\x1b\\xabo\\x9d\\x12D\\xcf\\x03\\x13\\x96fu\\xe4\\x88\\x0e\\x00^b\\xc6#Q\\xa9:\\xa3sA\\xb5\\x18\\xea\\xdf\\x04\\xd4\\x89mZg\\xac\\xb4GR\\xa86\\x96\\xc4\\xadF\\xf5\\x18@?\\xa8]\\xb7\\xe7\\xc75\\xea\\x8d%\\xd0]p\\t\\x81a\\x11k\\x85\\xddX \\x87ek>\"\\xe336\\x95%c\\x13\\x81\\xe2\\xcd.\\x07\\xb36G\\xe0\\xf6\\xe3\\xe9\\x99\\x04\\x8e\\xb7\\x1d\\xebm\\xb5\\xbe\\x11\\xa2\\xf6oSic\\x8d\\xeeAo9\\xe1\\xae\\\\\\x16ci\\xfc#^\\x98\\x0e\\x80\\xf0D\\xf6.@\\xe2[\\x12\\x14\\xf3\\x19,2\\x99C\\x9c\\xf8\\xfc\\x89\\x7f\\xf5>\\xf7\\xd7~\\x87\\xec\\x93\\xb6\\xd53\\xacu\\x0b5S\\x08A\\x82 \\xf3\\xb2\\x8c\\xd0P\\xf6\\x15\\xe3\\x0b\\x8fB\\xd8\\xdbb\\xf1\\xcf\\xa9\\xa0\\xad\\xb5Y\\xfb\\x95v#j\\x83\\x92\\xaf8t\\xbeBQ\\xd3\\xd7\\x12N\\xd9\\xb3\\xa7\\xe2\\x8b\\xb9.\\x18\\xeb\\xae\\xbeZhW,.\\x11\\x06\\xb3\\xdc\\xd0a\\x1a\\x1dN5\\x1e\\x85\\x0c\\xec<\\x15\\xc6\\xc6\\xc4A\\x83\\xec+\\x9a\\xf8oa<\\xe0\\xc7%\\xe0\\xc8p\\x8a\\xde\\x87\\xd2\\xab\\xa81YQ\\n\\xd8H\\xe3\\xea\\xaa\\xc6B\\xe9#(U\"!\\x0bE\\x88\\xba\\r\\xb8W\\xe5\\x1c\\x19\\xd5$\\xf8$\\xad\\xda\\xa8\\xf7q>\\x9d\\x91\\xe8\\x89\\xa6H\\x08&\\x9b\\x93\\xc5\\xce>$\\x94@\\xaaW\\x1eO\\xdeg\\xdd\\xb4\\x95\\xb8\\xe9\\xab\\x8f\\x94c\\xf6D\\xa4\\xa4\\xd5\\x18(\\x8c=2\\xe3\\x01G%\\xb2\\xe1\\x16{*\\x96\\xbc~\\xd7?de\\x07\\\\_>\\xd6\\x82d\\x13\\x04f\\x9e\\x9d \\x1a\\x06\\x80p\\xbc\\x9d}\\xf1L\\xd6\\x999\\xe4\\x06B$\\xf0\\xe5\\x92\\xb1.\\x0f)\\xab\\xb7\\xda\\xda\\xe4\\x84N\\x99@\\x92f.O\\x11\\x96JG;\\xb3\\xca42\\xb8\\xac\\x08\\x98\\x04\\x98\\x19@\\xb4\\xdc\\x9f\\xe1wT\\xc3u\\xb0\\x03-IA\\x9c\\xe6\\x99\\xcf\\xac\\x03$\\xeb\\xcf-SS7\\x8c\\xaex\\xde8Fk\\xaaD\\xdf<\\xc4\\\\\\x15\\x13\\xcd\\xc4~\\xe3\\xfa\\xb7u\\x9c\\xb5\\xba\\x04*\\xba\\t\\x89\\x07S\\xc7+]tM\\x8fA\\xa9\\x19{\\t\\xaa\\x19\\xf3\\xd7\\xee.\\x13\\xee\\xc8\\xb7\\r\\x08=c\\xc50 }H$O\\xfaj\\x1f1d\\x91M`\\x8c\\x9d\\xe2G\\x90I\\x02<\\xfe\\x9dN`\\xa2i\\xd5\\x04\\x86\\xc8\\x98\\x98\\x1e\\x9f\\xca\\xa6\\xa7_N<\\x07\\xa7$m\\x1cA\\x071oq\\xcdH\\x89gDA/;\\xb3\\x94)\\xa9:]$\\x8bhI\"x\\x93\\xa9@P\\xab7&\\x08\\xca\\x06C\\x9f4C\\xab\\xf0\\xbc^\"{\\xcf\\x14\\x98\\xd0g\\xcc\\x00o\\x18\\x16\\xb7\\x87\\xd4T\\xb4\\xe8\\x89\\x97\\x11\\xbb \\x80E\\xe4jICR\\xa8#x\\x93}\\x0f\\xbb\\x0c\\x94\\xa5\\xe5\\xd72FV\\x02\\xfa\\xf8$0\\x80w\\x9c\\\\@\\x81f\\xd8\\xdf\\x9cp\\xcb\\xb9\\x10jE\\xeco\\x19\\\\\\x91\\xc7\\x97\\xf0\\x86.2\\x04\\x90\\x07\\xdf&\\x88\\xef\\xc9v\\xd2I\"\\x1c\\x08\\x896\\x00\\x0c\\xc0\\xb6\\xbcR\\x19\\x0e7fR\\xac\\xd0*4\\x1dI\\x88t\\x990\\xd7f\\xb3\\xf8\\xff\\x00\\x82\\xe9\\x9b\\xd2{\\x87\"7\\x84\\xf0\\x9c\\xfcV\\xa0T$\\x86\\xb7xGK[>\\xaajZ}Br\\xbd\\xa2\\xf7\\xb7\\xbb#,XG\\x98b\\xfe\\x16\\xc4\\xb2I\\xa6]\\x1f\\xb6\\xfeJ\\x9a\\xb6\\x1d\\xc0\\x90A\\x04f\\r\\x97\\xb5R$\\xc9\\x12@6\\xd2\\xf9J\\x17\\x13\\xb3(\\xd4\\x8f\\x9bH:\\x0cI\\x03y\\xce\\xe6\\xe1r\\x14\\xd4\\xc4\\xd1\\xe3\\x0fb\\x8d\\xcd^\\x9f\\x8b\\xf8\\x1a\\x93\\xe3rX@\\xbd\\xf7\\x81$h3\\x1e*\\x87\\x1b\\xf0&!\\xb3\\xbb\\xb8\\xe8\\x13bZm\\xa5\\xc4O)SSDY\\x8ca \\xc8\\xcc-6\\xc8\\xc5\\xb6\\xa3`\\x9b\\x84\\x067aV\\xa7\\xf5\\xd3p\\xe7\\x16\\xf1\\xc9W\\x8ani\\x91b\\xa7\\xc3)\\xb2\\x1b\\xb95\\xae\\xa5\\x05\\x11D\\xaaM\\x9d\\xb6\\xe2\\x1bT\\x7f\\x98}\\xf8\\xab\\xfa\\x14\\xda\\xe1\\xbc\\xc2\\x1c9&\\x9e\\x0cWS\\xb9`*\\x99E\\xd2\\xb7k\\x80\\x9f\\x04\\x16\\x1ch\\x8b\"\\xdb\\xbf\\xb8\\xf96\\xfe\\xbb\\xaa\\xc9X\\x94[9\\xba~\\x9e\\xee\\xd4\\xc2\\xaf9%\\xf4\\xf1\\x1a\\x94\\xc5\\xf3\\xd5L\\xd2\\x93)#0\\x98\\x178\\xd8w\\xe4\\xb9k\\x93\\xec\\x12\\x94!\\x1exH\\x8a\\x959W\\xb8,&\\xebd\\x83~{\\xb0\\xba\\xc1`C\\x0c\\x98q\\x89\\xe8\\x8a1\\x91\\xdd\\xcaN\\xa4^\\xe7\\x90SH\\xe1ku\\xbb\\xd6\\xc8v\\xf3\\x15Al\\xb5\\x03>\\x85sH\\t\\x9b\\\\\\xe6\\t\\x82z\\xfb\\xc9t\\xf3\\x96Z\\xb8\\xd8\\x9b\\xe9n\\xff\\x00$\\xa9\\xc0\\xb1:\\xceQ\\x98\\xe5\\xd5L\\xe4\\xb4G]\\xe2nE\\xddl\\xce\\\\\\x00\\xd6\\xc5=`\"\\x08\\x06H\\xfc\\xfb\\xe8\\xb8\\xde\\'t^\\xf7\\xb0\\xb5\\xb8\\x9f\\x05\\xd5W\\xceD\\xf2\\xb7\\x0b\\x04\\xc4\\xd0\\xd4`\\x03\\x11\\xf5G\\xd2@\\xf0\\\\o\\\\d.G\\xd3<M\\xce\\x99\\x1f\\x04\\xf4\\x1a@\\x1f\\\\\\xc8\\xfa\\x88\\'\\xbe5\\xba\\x85\\xcd\\x82\\xd3\\x04\\xcf\\xf7\\xa2;\\xa6\\xf3\\x9d\\x90D\\x94\\xc7/\\xa8\\xde\\x0e\\xa4\\xde;\\x82\\x93z@=E\\xdb\\x1dl\\x9a\\xa1\\xff\\x00\\x14\\x13\\xf66\\x0b\\xa6H\\x89\\x19FN\\'\\xba\\xe8\\x026\\xbe\\xd1\\x02\\xd6\\xb8\\xe1\\xde\\x92k\\x8b_3\\xea\\x9d\\x02<\\xa9\\xb5#_\\xca\\x92\\x9dX\\xcef\\xdd\\xc1\\x07I\\xc32o\\xcbE.\\xff\\x00Y\\xd0}\\xca\\xb3\\x04KVbO\\x1b\\xce_r\\x88\\xc3T\\x9b\\x92@\\xe1\\xc4\\x9e0\\xa8\\xe9\\xbc\\x132c^h\\xc6b\\x8e@\\xdb\\x97\\xd9E\\xa0.\\xd9SxD\\x98\\x91<\\xe2l9M\\xd1\\xedx\\x9bH\\x8f.y\\xe6\\xa8(\\xd7h\\x16\\x99\\xb1\\xf4\\xcf\\x87DSq9\\x1e\\xd1\\x1c\\xb57\\x9b\\xe8\\x90\\x16\\xe1\\xc4\\xc0\\x87v\\xa7v\\xf1\\xd4\\xceh\\x81P4@\\x04\\x9fS\\xa5\\xf8\\rUm\\n\\xe1\\xa0\\x933\\xc73y\\xb2\\x99\\xaf\\'0\\xe8\\x8e1\\x1e\\x1d\\xe9\\x0f\\x01\\xa1\\xb2\\x1c\\x1c\\t\\x1a\\xde\\xe4\\x9c\\xfdWm\\xfa\\x88\\x00\\xe5}\\x00\\x1c<\\n\\x1e\\x9dI\\x80\\x01\\x16\\x91\\xc2y\\xfb\\xd1H[r\\xd2\\xd2a\\xd9\\x93\\x99\\x80c\\x9d\\xbe\\xe8\\x18A\\x82M\\xb8Zr\\x169\\xf1N\\xc6\\x92d62\\xddk\\x8e\\x9a\\x93\\xc4\\xce\\x9c\\x82\\x82\\x88\\x05\\xd9s3\\x90\\x13\\xfc\"[\\x9d\\xda\\xd0\\\\&gA\\x12I\\xd4\\xdf\\xc9\\x02\\'\\r\\x83\\x90\\x819~\\xeb\\xe4\\x9a\\x85\"]\\x05\\xad\\x88\\x0e\\'3\\xbd\\xd7\\xbb\\xd1p\\xd32\\xe0\\xd1\\x19\\x00M\\x8d\\xf3]0E\\xb7E\\xb3\"\\xdc\\xe0x\\xa42w\\x80\\xe2Z[h\\x04\\xceQ\\xa0\\xf1\\x12\\x84\\xaf\\xb2\\xe9T\\xde\\xde\\xa3L\\xef\\x11\\xa0\\xc9\\xb11\\xd5H\\x1b&;=\\xa177\\xce\\xcaR`\\x17n\\xe7a\\xd0g\\xe5)\\xe4X)\\xb1?\\x08a\\x1c]\\xfd\\x93[6\\x10\\xe2?\\xc5\\x1cN~\\x08A\\xf056^\\x9dJ\\x8d9\\x02\\x08\\xcc\\xe5\\x96\\x7f\\xc2\\xd1\\xd2\\xb9\\xc9\\x902\\xbc\\x9b\\xe69)*\\xbb\\xb6$\\x01\\x19\\xc9\\xd4\\xca{\\x99\\x17\\x04P\\xd1\\xf8u\\xe1\\xd0k\\xb5\\xcd\\x00}M\\x133\\x04\\x1d\\xd29+:[\\r\\x82\\x0b\\x9c&:\\x0fr\\x8c\\xa2\\t\\xb9\\xdd\\x92w\\x8cr\\x00w\\xdcy\\'/\\xed\\x1f\\xa7\\xb4r9\\x96\\xe5a\\xcaRo+\\x04\\xea\\x8e\\xc9\\xef\\x8fq\\xa8l\\xf6\\r\\x013\\xc7E6\\xf0\\x06\\x1b\\xbb}\\x0f\\x01k\\x00\\x95G\\xc19A\\xddo?\\x7f\\x84\\xa9V\\x06N\\xf3`p\\x19f.x\\xd9E#L\\xac\\x94\\xf9\\x93\\xc9\\xcdR\\x0bH\\xb6~\\x87\\xf8J\\x9b\\xad\\x98 \\xff\\x00v,N\\xbcSH\\x04\\t\\x1d\\x96\\xc91\\xc6D\\xf9\\x1f\\x14\\xd4j\\x975\\x87z\\xe6\\t\\x91s\\x982:\\x94\\x08U\\x8d\\xcd\\xc8\\x98\\x12\\xd19z\\x04\\xce\\xa9\\x04\\x99 5\\x9c3\\xcdsb\\xe2w\\x9cd\\xcc4Z\\x05\\xa0\\xf0\\x11xN\\xf7\\xce\\xf0\\xbc\\xc8\\x11\\xd2$\\xf9\\x1f\\x04\\xc8\\x91Soi\\xb0\\xd7vZ\"M\\xa3\\x90\\xd4\\xff\\x00\\x0b\\xaa\\x8d\\xed\\x01sgZlr\\xb1\\xe5\\x92@\\xf6\\x9cw\\\\ fM\\xb8\\xd8{\\xd55i%\\xb6q\\xb6D\\xc4\\xc9\\x16\\'L\\xbc\\xd0\"F4\\x8d\\xde\\xc9\\x11\\xc0\\xf7G8A\\xb9\\x84\\x96\\xb85\\xa2Lv\\x8d\\xf7M\\xe0\"\\xdbN\\x03{\\x1cr=\\x02\\x8a\\x9b,\\xcb7\\xea\\xb9q\\xbe\\xa3\\xb2<\\x13\"OQ\\x82\\xc2?P \\xce\\xa0\\x1c\\xbc\\x17\\rp\\x00\\x8e\\xcd\\x9d\\x07w\\x8aX\\x86\\x12,\\xd1g\\xce}@]S9\\xc9a<\\xbe\\xfc\\xec\\x81\\x10\\xd4\\xa9\\xbaH\\xdd\\xd7C\\xc6\\xe9)k\\x036\\r\\xf6:\\xa7F\\x03\\x07\\x907>\\xf4\\xe4\\xd9\\xddO\\xd9$\\x95\\xa5C\\x03b\\xa4\\xa2n\\xde\\x9f`\\x9d$\\x86\\x82\\xe9d{\\xd4\\xd8\\'\\x9976\\xff\\x00\\x8aI(\\x8c*\\xab\\xccfuE\\xe1\\xcfbu\\x81\\xe8\\x12I&4\\x19\\xbea\\xf76`S\\x01\\x97Gy\\x16\\x84\\x92I\\x80\\xf8{\\xd2d\\xea[>h\\xe6\\x8b;\\xbb\\xd5:I\\x88\\x9a\\x8b\\x046\\xc32\\xa3\\xfdM\\xff\\x009\\xef\\xe2\\x92J$\\x89\\x1a\\xc1\\x0e\\xb0\\xb9\\x13\\xce\\xc35\\xde$v\\xff\\x00\\xcaS\\xa4\\x98\\x8e\\xa9\\xb4n\\xb6\\xc91\\xa0\\x97H\\x9b\\xbf>N\\xb2I%\\xe0\\x04\\xf5\\x06]>\\xc15\\x06\\x8c\\xe0L\\x91:\\xc6\\xeeI$\\x91%\\xd8\\xe6\\xa8\\xb3z;\\xec\\x8a\\xc44F\\\\>\\xc9$\\x993\\x96}g\\xbb\\xd0(\\xeb\\xfd=\\xc7\\xd0&I\\x03\\xf1\\x1c\\x98\\r\\x8b\\\\\\xe5\\xdc\\x9d\\xc7>\\xa7\\xd5\\xc9$\\x84&Vl\\xaa\\x8e,\\xa8I$\\xfc\\xc2.f\\xd1\\x92}\\xb2\\xf3\\xf2\\x9ed\\xcc\\rz\\xa4\\x92c}\\xc2E\\x80\\x8fv\\t\\xf0\\xac\\x160&c-.c\\xc8$\\x92<\\x08>\\xe3\\xe3E\\xbf\\xcc=Z\\x88\\xaa\\xd1\\x06\\xc3#\\xfe\\xd2\\x92H\\x10\\xf8v\\x8d\\xd1a\\xaf\\xaaI$\\xa2\\x07\\xff\\xd9'}"
            ]
          },
          "metadata": {
            "tags": []
          },
          "execution_count": 9
        }
      ]
    },
    {
      "cell_type": "code",
      "metadata": {
        "id": "SxUkoT_KBBMp",
        "colab_type": "code",
        "colab": {}
      },
      "source": [
        "image = io.imread('example.jpg')"
      ],
      "execution_count": 0,
      "outputs": []
    },
    {
      "cell_type": "code",
      "metadata": {
        "id": "b3Ccp0n4ADMO",
        "colab_type": "code",
        "colab": {}
      },
      "source": [
        "def process_image(obs):\n",
        "  return color.rgb2gray(obs)\n",
        "\n",
        "def process_image_2(obs):\n",
        "  return 2 * color.rgb2gray(obs)\n",
        "\n",
        "def process_image_2ne1(obs):\n",
        "  return 2 * color.rgb2gray(obs) - 1.0"
      ],
      "execution_count": 0,
      "outputs": []
    },
    {
      "cell_type": "code",
      "metadata": {
        "id": "zJgDyAr_CMxT",
        "colab_type": "code",
        "colab": {}
      },
      "source": [
        "image2 = process_image(image)\n",
        "image3 = process_image_2(image)\n",
        "image4 = process_image_2ne1(image)"
      ],
      "execution_count": 0,
      "outputs": []
    },
    {
      "cell_type": "code",
      "metadata": {
        "id": "djO3sS8wBvFK",
        "colab_type": "code",
        "outputId": "cb36ac31-2d08-454e-dc61-3bfb5e9f7495",
        "colab": {
          "base_uri": "https://localhost:8080/",
          "height": 155
        }
      },
      "source": [
        "fig, (ax1, ax2, ax3, ax4) = plt.subplots(1, 4, figsize=(8, 4.5))\n",
        "ax1.set_title(\"Original\")\n",
        "ax1.imshow(image)\n",
        "ax2.set_title(\"Proccessed\")\n",
        "ax2.imshow(image2, cmap=plt.cm.gray)\n",
        "ax3.set_title(\"Proccessed2\")\n",
        "ax3.imshow(image3, cmap=plt.cm.gray)\n",
        "ax4.set_title(\"Proccessed2ne1\")\n",
        "ax4.imshow(image4, cmap=plt.cm.gray)\n"
      ],
      "execution_count": 17,
      "outputs": [
        {
          "output_type": "execute_result",
          "data": {
            "text/plain": [
              "<matplotlib.image.AxesImage at 0x7f25903b2c18>"
            ]
          },
          "metadata": {
            "tags": []
          },
          "execution_count": 17
        },
        {
          "output_type": "display_data",
          "data": {
            "image/png": "[encoded data removed]",
            "text/plain": [
              "<Figure size 576x324 with 4 Axes>"
            ]
          },
          "metadata": {
            "tags": []
          }
        }
      ]
    },
    {
      "cell_type": "code",
      "metadata": {
        "id": "ogA3q2ExERal",
        "colab_type": "code",
        "colab": {
          "base_uri": "https://localhost:8080/",
          "height": 88
        },
        "outputId": "194b6c08-e6be-41b7-90aa-9a0bf4470aa2"
      },
      "source": [
        "print(np.mean(image))\n",
        "print(np.mean(image2))\n",
        "print(np.mean(image3))\n",
        "print(np.mean(image4))"
      ],
      "execution_count": 19,
      "outputs": [
        {
          "output_type": "stream",
          "text": [
            "154.02305158524635\n",
            "0.6033177233746512\n",
            "1.2066354467493023\n",
            "0.20663544674930254\n"
          ],
          "name": "stdout"
        }
      ]
    },
    {
      "cell_type": "markdown",
      "metadata": {
        "id": "4rHRbVlDJWaH",
        "colab_type": "text"
      },
      "source": [
        "# get random action"
      ]
    },
    {
      "cell_type": "code",
      "metadata": {
        "id": "JSeUI0G0JV6P",
        "colab_type": "code",
        "colab": {}
      },
      "source": [
        "def get_random_action(gas_actions):\n",
        "    \"\"\"\n",
        "    Here random actions prefer gas to break\n",
        "    otherwise the car can never go anywhere.\n",
        "    \"\"\"\n",
        "    action_weights = 14.0 * gas_actions + 1.0\n",
        "    action_weights /= np.sum(action_weights)\n",
        "\n",
        "    return np.random.choice(dim_actions, p=action_weights)"
      ],
      "execution_count": 0,
      "outputs": []
    },
    {
      "cell_type": "code",
      "metadata": {
        "id": "5vAPqu80NS72",
        "colab_type": "code",
        "colab": {}
      },
      "source": [
        "dim_actions = 12"
      ],
      "execution_count": 0,
      "outputs": []
    },
    {
      "cell_type": "code",
      "metadata": {
        "id": "H4GyJXUuLmFf",
        "colab_type": "code",
        "outputId": "19ab08b3-ebc2-4b3c-9a5b-97bd52eb4f23",
        "colab": {
          "base_uri": "https://localhost:8080/",
          "height": 70
        }
      },
      "source": [
        "action_weights = 14.0 * gas_actions + 1.0\n",
        "print(action_weights)\n",
        "action_weights /= np.sum(action_weights)\n",
        "print(action_weights)"
      ],
      "execution_count": 0,
      "outputs": [
        {
          "output_type": "stream",
          "text": [
            "[ 1. 15.  1.  1.  1. 15.  1.  1.  1. 15.  1.  1.]\n",
            "[0.01851852 0.27777778 0.01851852 0.01851852 0.01851852 0.27777778\n",
            " 0.01851852 0.01851852 0.01851852 0.27777778 0.01851852 0.01851852]\n"
          ],
          "name": "stdout"
        }
      ]
    },
    {
      "cell_type": "code",
      "metadata": {
        "id": "mFQi4jwcLwYj",
        "colab_type": "code",
        "outputId": "a2618f02-0be5-4bf8-b20d-de3e754677fb",
        "colab": {
          "base_uri": "https://localhost:8080/",
          "height": 372
        }
      },
      "source": [
        "for i in range(20):\n",
        "    print(get_random_action(gas_actions))"
      ],
      "execution_count": 0,
      "outputs": [
        {
          "output_type": "stream",
          "text": [
            "9\n",
            "9\n",
            "5\n",
            "1\n",
            "4\n",
            "4\n",
            "9\n",
            "1\n",
            "1\n",
            "3\n",
            "9\n",
            "5\n",
            "1\n",
            "10\n",
            "5\n",
            "5\n",
            "1\n",
            "2\n",
            "1\n",
            "5\n"
          ],
          "name": "stdout"
        }
      ]
    },
    {
      "cell_type": "markdown",
      "metadata": {
        "id": "_x3RNWSzPLOM",
        "colab_type": "text"
      },
      "source": [
        "gas action 과 break action 알아보기"
      ]
    },
    {
      "cell_type": "code",
      "metadata": {
        "id": "kGd4Sg8lJcMm",
        "colab_type": "code",
        "colab": {
          "base_uri": "https://localhost:8080/",
          "height": 35
        },
        "outputId": "4176f43d-e18c-4500-cd98-aca3a7eb28c3"
      },
      "source": [
        "gas_actions = np.array([a[1] == 1 and a[2] == 0 for a in all_actions])\n",
        "print(gas_actions)"
      ],
      "execution_count": 24,
      "outputs": [
        {
          "output_type": "stream",
          "text": [
            "[False  True False False False  True False False False  True False False]\n"
          ],
          "name": "stdout"
        }
      ]
    },
    {
      "cell_type": "code",
      "metadata": {
        "id": "vInbdEfrLJPJ",
        "colab_type": "code",
        "colab": {
          "base_uri": "https://localhost:8080/",
          "height": 35
        },
        "outputId": "e1f17f95-62e0-462c-d586-87e258970c07"
      },
      "source": [
        "break_actions = np.array([a[2] == 1 for a in all_actions])\n",
        "print(break_actions)"
      ],
      "execution_count": 25,
      "outputs": [
        {
          "output_type": "stream",
          "text": [
            "[False False False False False False False False False False False False]\n"
          ],
          "name": "stdout"
        }
      ]
    },
    {
      "cell_type": "code",
      "metadata": {
        "id": "Cz94yToHLUwK",
        "colab_type": "code",
        "colab": {
          "base_uri": "https://localhost:8080/",
          "height": 35
        },
        "outputId": "d014016e-2127-46c5-da79-428aa622e122"
      },
      "source": [
        "n_gas_actions = gas_actions.sum()\n",
        "print(n_gas_actions)"
      ],
      "execution_count": 27,
      "outputs": [
        {
          "output_type": "stream",
          "text": [
            "3\n"
          ],
          "name": "stdout"
        }
      ]
    },
    {
      "cell_type": "markdown",
      "metadata": {
        "id": "3JxbZ9WHJZT_",
        "colab_type": "text"
      },
      "source": [
        "# Epsilon and rand - asking "
      ]
    },
    {
      "cell_type": "code",
      "metadata": {
        "id": "q3rdnbnsKm-1",
        "colab_type": "code",
        "colab": {}
      },
      "source": [
        "class pr:\n",
        "    def __init__(self,initial_epsilon=1.0,min_epsilon=0.1,epsilon_decay_steps=int(1e6)):\n",
        "        \n",
        "        \n",
        "        self.initial_epsilon = initial_epsilon\n",
        "        self.min_epsilon = min_epsilon\n",
        "        self.epsilon_decay_steps = epsilon_decay_steps\n",
        "        self.do_training = True\n",
        "        self.playing_epsilon = 0.0\n",
        "        self.session = None    \n",
        "        self.global_counter = 0\n",
        "        \n",
        "    def get_epsilon(self):\n",
        "        if not self.do_training:\n",
        "            return self.playing_epsilon\n",
        "        elif self.global_counter >= self.epsilon_decay_steps:\n",
        "            return self.min_epsilon\n",
        "        else:\n",
        "            # linear decay\n",
        "            r = 1.0 - self.global_counter / float(self.epsilon_decay_steps)\n",
        "            return self.min_epsilon + (self.initial_epsilon - self.min_epsilon) * r\n",
        "    def play_ep(self):\n",
        "        if np.random.rand() > self.get_epsilon(): # 가면갈수록 random 보단 결정한 행동을 함\n",
        "            print(\"prediction\")\n",
        "        else: # 처음엔 get epsilon 이 거의 대부분 크므로 random\n",
        "            print(\"random\")\n",
        "            self.global_counter += 1\n"
      ],
      "execution_count": 0,
      "outputs": []
    },
    {
      "cell_type": "code",
      "metadata": {
        "id": "jk6x4OD1eAWa",
        "colab_type": "code",
        "colab": {
          "base_uri": "https://localhost:8080/",
          "height": 35
        },
        "outputId": "16784980-e39a-47c2-d8cf-065a6dfee476"
      },
      "source": [
        "mod = pr()\n",
        "eps = mod.get_epsilon()\n",
        "print(eps)"
      ],
      "execution_count": 22,
      "outputs": [
        {
          "output_type": "stream",
          "text": [
            "1.0\n"
          ],
          "name": "stdout"
        }
      ]
    },
    {
      "cell_type": "code",
      "metadata": {
        "id": "m1onOYPngEya",
        "colab_type": "code",
        "colab": {
          "base_uri": "https://localhost:8080/",
          "height": 195
        },
        "outputId": "84714fc1-e7f3-4780-86d4-3d9af0737023"
      },
      "source": [
        "for i in range(10):\n",
        "    print(np.random.rand())"
      ],
      "execution_count": 24,
      "outputs": [
        {
          "output_type": "stream",
          "text": [
            "0.059945049768868164\n",
            "0.6288222289952059\n",
            "0.47387008681195897\n",
            "0.8695814341592162\n",
            "0.1659428969452712\n",
            "0.5412368904296311\n",
            "0.29767016324839857\n",
            "0.3985794857991396\n",
            "0.054466363536886275\n",
            "0.6271192738527207\n"
          ],
          "name": "stdout"
        }
      ]
    }
  ]
}